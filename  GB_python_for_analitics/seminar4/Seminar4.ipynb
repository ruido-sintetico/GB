{
 "cells": [
  {
   "cell_type": "markdown",
   "id": "4f043e71",
   "metadata": {},
   "source": [
    "## Условие 1: Задача 1\n",
    "Постройте график\n",
    "\n",
    "Назовите график\n",
    "\n",
    "Сделайте именование оси x и оси y\n",
    "\n",
    "Сделайте выводы\n",
    "\n",
    "1.1. Скачать следующие данные: kc-house-data и laptop_price"
   ]
  },
  {
   "cell_type": "code",
   "execution_count": 1,
   "id": "8c583f6e",
   "metadata": {},
   "outputs": [],
   "source": [
    "import pandas as pn\n",
    "import numpy as np\n",
    "import matplotlib.pyplot as plt\n",
    "import seaborn as sns\n",
    "import folium \n",
    "import os"
   ]
  },
  {
   "cell_type": "code",
   "execution_count": 2,
   "id": "5b3ff305",
   "metadata": {},
   "outputs": [],
   "source": [
    "houses_data = pn.read_csv(\"kc_house_data.csv\")\n",
    "laptops_data = pn.read_csv(\"laptops_10.csv\")"
   ]
  },
  {
   "cell_type": "code",
   "execution_count": 3,
   "id": "6aa40795",
   "metadata": {},
   "outputs": [
    {
     "name": "stdout",
     "output_type": "stream",
     "text": [
      "<class 'pandas.core.frame.DataFrame'>\n",
      "RangeIndex: 21613 entries, 0 to 21612\n",
      "Data columns (total 21 columns):\n",
      " #   Column         Non-Null Count  Dtype  \n",
      "---  ------         --------------  -----  \n",
      " 0   id             21613 non-null  int64  \n",
      " 1   date           21613 non-null  object \n",
      " 2   price          21613 non-null  float64\n",
      " 3   bedrooms       21613 non-null  int64  \n",
      " 4   bathrooms      21613 non-null  float64\n",
      " 5   sqft_living    21613 non-null  int64  \n",
      " 6   sqft_lot       21613 non-null  int64  \n",
      " 7   floors         21613 non-null  float64\n",
      " 8   waterfront     21613 non-null  int64  \n",
      " 9   view           21613 non-null  int64  \n",
      " 10  condition      21613 non-null  int64  \n",
      " 11  grade          21613 non-null  int64  \n",
      " 12  sqft_above     21613 non-null  int64  \n",
      " 13  sqft_basement  21613 non-null  int64  \n",
      " 14  yr_built       21613 non-null  int64  \n",
      " 15  yr_renovated   21613 non-null  int64  \n",
      " 16  zipcode        21613 non-null  int64  \n",
      " 17  lat            21613 non-null  float64\n",
      " 18  long           21613 non-null  float64\n",
      " 19  sqft_living15  21613 non-null  int64  \n",
      " 20  sqft_lot15     21613 non-null  int64  \n",
      "dtypes: float64(5), int64(15), object(1)\n",
      "memory usage: 3.5+ MB\n"
     ]
    }
   ],
   "source": [
    "houses_data.info()"
   ]
  },
  {
   "cell_type": "code",
   "execution_count": 4,
   "id": "9a08dfc4",
   "metadata": {},
   "outputs": [
    {
     "data": {
      "text/html": [
       "<div>\n",
       "<style scoped>\n",
       "    .dataframe tbody tr th:only-of-type {\n",
       "        vertical-align: middle;\n",
       "    }\n",
       "\n",
       "    .dataframe tbody tr th {\n",
       "        vertical-align: top;\n",
       "    }\n",
       "\n",
       "    .dataframe thead th {\n",
       "        text-align: right;\n",
       "    }\n",
       "</style>\n",
       "<table border=\"1\" class=\"dataframe\">\n",
       "  <thead>\n",
       "    <tr style=\"text-align: right;\">\n",
       "      <th></th>\n",
       "      <th>id</th>\n",
       "      <th>price</th>\n",
       "      <th>bedrooms</th>\n",
       "      <th>bathrooms</th>\n",
       "      <th>sqft_living</th>\n",
       "      <th>sqft_lot</th>\n",
       "      <th>floors</th>\n",
       "      <th>waterfront</th>\n",
       "      <th>view</th>\n",
       "      <th>condition</th>\n",
       "      <th>grade</th>\n",
       "      <th>sqft_above</th>\n",
       "      <th>sqft_basement</th>\n",
       "      <th>yr_built</th>\n",
       "      <th>yr_renovated</th>\n",
       "      <th>zipcode</th>\n",
       "      <th>lat</th>\n",
       "      <th>long</th>\n",
       "      <th>sqft_living15</th>\n",
       "      <th>sqft_lot15</th>\n",
       "    </tr>\n",
       "  </thead>\n",
       "  <tbody>\n",
       "    <tr>\n",
       "      <th>count</th>\n",
       "      <td>2.161300e+04</td>\n",
       "      <td>2.161300e+04</td>\n",
       "      <td>21613.000000</td>\n",
       "      <td>21613.000000</td>\n",
       "      <td>21613.000000</td>\n",
       "      <td>2.161300e+04</td>\n",
       "      <td>21613.000000</td>\n",
       "      <td>21613.000000</td>\n",
       "      <td>21613.000000</td>\n",
       "      <td>21613.000000</td>\n",
       "      <td>21613.000000</td>\n",
       "      <td>21613.000000</td>\n",
       "      <td>21613.000000</td>\n",
       "      <td>21613.000000</td>\n",
       "      <td>21613.000000</td>\n",
       "      <td>21613.000000</td>\n",
       "      <td>21613.000000</td>\n",
       "      <td>21613.000000</td>\n",
       "      <td>21613.000000</td>\n",
       "      <td>21613.000000</td>\n",
       "    </tr>\n",
       "    <tr>\n",
       "      <th>mean</th>\n",
       "      <td>4.580302e+09</td>\n",
       "      <td>5.400881e+05</td>\n",
       "      <td>3.370842</td>\n",
       "      <td>2.114757</td>\n",
       "      <td>2079.899736</td>\n",
       "      <td>1.510697e+04</td>\n",
       "      <td>1.494309</td>\n",
       "      <td>0.007542</td>\n",
       "      <td>0.234303</td>\n",
       "      <td>3.409430</td>\n",
       "      <td>7.656873</td>\n",
       "      <td>1788.390691</td>\n",
       "      <td>291.509045</td>\n",
       "      <td>1971.005136</td>\n",
       "      <td>84.402258</td>\n",
       "      <td>98077.939805</td>\n",
       "      <td>47.560053</td>\n",
       "      <td>-122.213896</td>\n",
       "      <td>1986.552492</td>\n",
       "      <td>12768.455652</td>\n",
       "    </tr>\n",
       "    <tr>\n",
       "      <th>std</th>\n",
       "      <td>2.876566e+09</td>\n",
       "      <td>3.671272e+05</td>\n",
       "      <td>0.930062</td>\n",
       "      <td>0.770163</td>\n",
       "      <td>918.440897</td>\n",
       "      <td>4.142051e+04</td>\n",
       "      <td>0.539989</td>\n",
       "      <td>0.086517</td>\n",
       "      <td>0.766318</td>\n",
       "      <td>0.650743</td>\n",
       "      <td>1.175459</td>\n",
       "      <td>828.090978</td>\n",
       "      <td>442.575043</td>\n",
       "      <td>29.373411</td>\n",
       "      <td>401.679240</td>\n",
       "      <td>53.505026</td>\n",
       "      <td>0.138564</td>\n",
       "      <td>0.140828</td>\n",
       "      <td>685.391304</td>\n",
       "      <td>27304.179631</td>\n",
       "    </tr>\n",
       "    <tr>\n",
       "      <th>min</th>\n",
       "      <td>1.000102e+06</td>\n",
       "      <td>7.500000e+04</td>\n",
       "      <td>0.000000</td>\n",
       "      <td>0.000000</td>\n",
       "      <td>290.000000</td>\n",
       "      <td>5.200000e+02</td>\n",
       "      <td>1.000000</td>\n",
       "      <td>0.000000</td>\n",
       "      <td>0.000000</td>\n",
       "      <td>1.000000</td>\n",
       "      <td>1.000000</td>\n",
       "      <td>290.000000</td>\n",
       "      <td>0.000000</td>\n",
       "      <td>1900.000000</td>\n",
       "      <td>0.000000</td>\n",
       "      <td>98001.000000</td>\n",
       "      <td>47.155900</td>\n",
       "      <td>-122.519000</td>\n",
       "      <td>399.000000</td>\n",
       "      <td>651.000000</td>\n",
       "    </tr>\n",
       "    <tr>\n",
       "      <th>25%</th>\n",
       "      <td>2.123049e+09</td>\n",
       "      <td>3.219500e+05</td>\n",
       "      <td>3.000000</td>\n",
       "      <td>1.750000</td>\n",
       "      <td>1427.000000</td>\n",
       "      <td>5.040000e+03</td>\n",
       "      <td>1.000000</td>\n",
       "      <td>0.000000</td>\n",
       "      <td>0.000000</td>\n",
       "      <td>3.000000</td>\n",
       "      <td>7.000000</td>\n",
       "      <td>1190.000000</td>\n",
       "      <td>0.000000</td>\n",
       "      <td>1951.000000</td>\n",
       "      <td>0.000000</td>\n",
       "      <td>98033.000000</td>\n",
       "      <td>47.471000</td>\n",
       "      <td>-122.328000</td>\n",
       "      <td>1490.000000</td>\n",
       "      <td>5100.000000</td>\n",
       "    </tr>\n",
       "    <tr>\n",
       "      <th>50%</th>\n",
       "      <td>3.904930e+09</td>\n",
       "      <td>4.500000e+05</td>\n",
       "      <td>3.000000</td>\n",
       "      <td>2.250000</td>\n",
       "      <td>1910.000000</td>\n",
       "      <td>7.618000e+03</td>\n",
       "      <td>1.500000</td>\n",
       "      <td>0.000000</td>\n",
       "      <td>0.000000</td>\n",
       "      <td>3.000000</td>\n",
       "      <td>7.000000</td>\n",
       "      <td>1560.000000</td>\n",
       "      <td>0.000000</td>\n",
       "      <td>1975.000000</td>\n",
       "      <td>0.000000</td>\n",
       "      <td>98065.000000</td>\n",
       "      <td>47.571800</td>\n",
       "      <td>-122.230000</td>\n",
       "      <td>1840.000000</td>\n",
       "      <td>7620.000000</td>\n",
       "    </tr>\n",
       "    <tr>\n",
       "      <th>75%</th>\n",
       "      <td>7.308900e+09</td>\n",
       "      <td>6.450000e+05</td>\n",
       "      <td>4.000000</td>\n",
       "      <td>2.500000</td>\n",
       "      <td>2550.000000</td>\n",
       "      <td>1.068800e+04</td>\n",
       "      <td>2.000000</td>\n",
       "      <td>0.000000</td>\n",
       "      <td>0.000000</td>\n",
       "      <td>4.000000</td>\n",
       "      <td>8.000000</td>\n",
       "      <td>2210.000000</td>\n",
       "      <td>560.000000</td>\n",
       "      <td>1997.000000</td>\n",
       "      <td>0.000000</td>\n",
       "      <td>98118.000000</td>\n",
       "      <td>47.678000</td>\n",
       "      <td>-122.125000</td>\n",
       "      <td>2360.000000</td>\n",
       "      <td>10083.000000</td>\n",
       "    </tr>\n",
       "    <tr>\n",
       "      <th>max</th>\n",
       "      <td>9.900000e+09</td>\n",
       "      <td>7.700000e+06</td>\n",
       "      <td>33.000000</td>\n",
       "      <td>8.000000</td>\n",
       "      <td>13540.000000</td>\n",
       "      <td>1.651359e+06</td>\n",
       "      <td>3.500000</td>\n",
       "      <td>1.000000</td>\n",
       "      <td>4.000000</td>\n",
       "      <td>5.000000</td>\n",
       "      <td>13.000000</td>\n",
       "      <td>9410.000000</td>\n",
       "      <td>4820.000000</td>\n",
       "      <td>2015.000000</td>\n",
       "      <td>2015.000000</td>\n",
       "      <td>98199.000000</td>\n",
       "      <td>47.777600</td>\n",
       "      <td>-121.315000</td>\n",
       "      <td>6210.000000</td>\n",
       "      <td>871200.000000</td>\n",
       "    </tr>\n",
       "  </tbody>\n",
       "</table>\n",
       "</div>"
      ],
      "text/plain": [
       "                 id         price      bedrooms     bathrooms   sqft_living  \\\n",
       "count  2.161300e+04  2.161300e+04  21613.000000  21613.000000  21613.000000   \n",
       "mean   4.580302e+09  5.400881e+05      3.370842      2.114757   2079.899736   \n",
       "std    2.876566e+09  3.671272e+05      0.930062      0.770163    918.440897   \n",
       "min    1.000102e+06  7.500000e+04      0.000000      0.000000    290.000000   \n",
       "25%    2.123049e+09  3.219500e+05      3.000000      1.750000   1427.000000   \n",
       "50%    3.904930e+09  4.500000e+05      3.000000      2.250000   1910.000000   \n",
       "75%    7.308900e+09  6.450000e+05      4.000000      2.500000   2550.000000   \n",
       "max    9.900000e+09  7.700000e+06     33.000000      8.000000  13540.000000   \n",
       "\n",
       "           sqft_lot        floors    waterfront          view     condition  \\\n",
       "count  2.161300e+04  21613.000000  21613.000000  21613.000000  21613.000000   \n",
       "mean   1.510697e+04      1.494309      0.007542      0.234303      3.409430   \n",
       "std    4.142051e+04      0.539989      0.086517      0.766318      0.650743   \n",
       "min    5.200000e+02      1.000000      0.000000      0.000000      1.000000   \n",
       "25%    5.040000e+03      1.000000      0.000000      0.000000      3.000000   \n",
       "50%    7.618000e+03      1.500000      0.000000      0.000000      3.000000   \n",
       "75%    1.068800e+04      2.000000      0.000000      0.000000      4.000000   \n",
       "max    1.651359e+06      3.500000      1.000000      4.000000      5.000000   \n",
       "\n",
       "              grade    sqft_above  sqft_basement      yr_built  yr_renovated  \\\n",
       "count  21613.000000  21613.000000   21613.000000  21613.000000  21613.000000   \n",
       "mean       7.656873   1788.390691     291.509045   1971.005136     84.402258   \n",
       "std        1.175459    828.090978     442.575043     29.373411    401.679240   \n",
       "min        1.000000    290.000000       0.000000   1900.000000      0.000000   \n",
       "25%        7.000000   1190.000000       0.000000   1951.000000      0.000000   \n",
       "50%        7.000000   1560.000000       0.000000   1975.000000      0.000000   \n",
       "75%        8.000000   2210.000000     560.000000   1997.000000      0.000000   \n",
       "max       13.000000   9410.000000    4820.000000   2015.000000   2015.000000   \n",
       "\n",
       "            zipcode           lat          long  sqft_living15     sqft_lot15  \n",
       "count  21613.000000  21613.000000  21613.000000   21613.000000   21613.000000  \n",
       "mean   98077.939805     47.560053   -122.213896    1986.552492   12768.455652  \n",
       "std       53.505026      0.138564      0.140828     685.391304   27304.179631  \n",
       "min    98001.000000     47.155900   -122.519000     399.000000     651.000000  \n",
       "25%    98033.000000     47.471000   -122.328000    1490.000000    5100.000000  \n",
       "50%    98065.000000     47.571800   -122.230000    1840.000000    7620.000000  \n",
       "75%    98118.000000     47.678000   -122.125000    2360.000000   10083.000000  \n",
       "max    98199.000000     47.777600   -121.315000    6210.000000  871200.000000  "
      ]
     },
     "execution_count": 4,
     "metadata": {},
     "output_type": "execute_result"
    }
   ],
   "source": [
    "houses_data.describe()"
   ]
  },
  {
   "cell_type": "code",
   "execution_count": 5,
   "id": "3bf38a82",
   "metadata": {},
   "outputs": [
    {
     "name": "stdout",
     "output_type": "stream",
     "text": [
      "<class 'pandas.core.frame.DataFrame'>\n",
      "RangeIndex: 1303 entries, 0 to 1302\n",
      "Data columns (total 13 columns):\n",
      " #   Column         Non-Null Count  Dtype  \n",
      "---  ------         --------------  -----  \n",
      " 0   Company        1303 non-null   object \n",
      " 1   Product        1303 non-null   object \n",
      " 2   TypeName       1303 non-null   object \n",
      " 3   Inches         1303 non-null   float64\n",
      " 4   Cpu            1303 non-null   object \n",
      " 5   Ram            1303 non-null   object \n",
      " 6   Gpu            1303 non-null   object \n",
      " 7   OpSys          1303 non-null   object \n",
      " 8   Weight         1303 non-null   float64\n",
      " 9   Price_euros    1303 non-null   float64\n",
      " 10  Cpu_Company    1303 non-null   object \n",
      " 11  Memory_Amount  1303 non-null   int64  \n",
      " 12  Memory_Type    1303 non-null   object \n",
      "dtypes: float64(3), int64(1), object(9)\n",
      "memory usage: 132.5+ KB\n"
     ]
    }
   ],
   "source": [
    "laptops_data.info()"
   ]
  },
  {
   "cell_type": "markdown",
   "id": "58629896",
   "metadata": {},
   "source": [
    "### 1.2\n",
    "Изучите стоимости недвижимости"
   ]
  },
  {
   "cell_type": "code",
   "execution_count": 6,
   "id": "eefbd48a",
   "metadata": {},
   "outputs": [
    {
     "data": {
      "text/plain": [
       "0        221900.0\n",
       "1        538000.0\n",
       "2        180000.0\n",
       "3        604000.0\n",
       "4        510000.0\n",
       "           ...   \n",
       "21608    360000.0\n",
       "21609    400000.0\n",
       "21610    402101.0\n",
       "21611    400000.0\n",
       "21612    325000.0\n",
       "Name: price, Length: 21613, dtype: float64"
      ]
     },
     "execution_count": 6,
     "metadata": {},
     "output_type": "execute_result"
    }
   ],
   "source": [
    "houses_data[\"price\"]"
   ]
  },
  {
   "cell_type": "code",
   "execution_count": 7,
   "id": "a1f77174",
   "metadata": {
    "scrolled": true
   },
   "outputs": [
    {
     "data": {
      "image/png": "[encoded data removed]",
      "text/plain": [
       "<Figure size 432x288 with 1 Axes>"
      ]
     },
     "metadata": {
      "needs_background": "light"
     },
     "output_type": "display_data"
    }
   ],
   "source": [
    "plt.hist(houses_data[\"price\"], color='y', edgecolor='r', bins = 1000)\n",
    "plt.title(\"Prices\")\n",
    "plt.ylabel(\"Amount\")\n",
    "plt.xlabel(\"Price\");"
   ]
  },
  {
   "cell_type": "markdown",
   "id": "2db9ae12",
   "metadata": {},
   "source": [
    "Вывод: Распределение цен показывает что стоимость основной части домов находится в пределах от 0 до 1000000 "
   ]
  },
  {
   "cell_type": "code",
   "execution_count": 8,
   "id": "0456b25f",
   "metadata": {},
   "outputs": [
    {
     "data": {
      "text/html": [
       "<div>\n",
       "<style scoped>\n",
       "    .dataframe tbody tr th:only-of-type {\n",
       "        vertical-align: middle;\n",
       "    }\n",
       "\n",
       "    .dataframe tbody tr th {\n",
       "        vertical-align: top;\n",
       "    }\n",
       "\n",
       "    .dataframe thead tr th {\n",
       "        text-align: left;\n",
       "    }\n",
       "\n",
       "    .dataframe thead tr:last-of-type th {\n",
       "        text-align: right;\n",
       "    }\n",
       "</style>\n",
       "<table border=\"1\" class=\"dataframe\">\n",
       "  <thead>\n",
       "    <tr>\n",
       "      <th></th>\n",
       "      <th>price</th>\n",
       "    </tr>\n",
       "    <tr>\n",
       "      <th></th>\n",
       "      <th>mean</th>\n",
       "    </tr>\n",
       "    <tr>\n",
       "      <th>bedrooms</th>\n",
       "      <th></th>\n",
       "    </tr>\n",
       "  </thead>\n",
       "  <tbody>\n",
       "    <tr>\n",
       "      <th>0</th>\n",
       "      <td>4.095038e+05</td>\n",
       "    </tr>\n",
       "    <tr>\n",
       "      <th>1</th>\n",
       "      <td>3.176429e+05</td>\n",
       "    </tr>\n",
       "    <tr>\n",
       "      <th>2</th>\n",
       "      <td>4.013727e+05</td>\n",
       "    </tr>\n",
       "    <tr>\n",
       "      <th>3</th>\n",
       "      <td>4.662321e+05</td>\n",
       "    </tr>\n",
       "    <tr>\n",
       "      <th>4</th>\n",
       "      <td>6.354195e+05</td>\n",
       "    </tr>\n",
       "    <tr>\n",
       "      <th>5</th>\n",
       "      <td>7.865998e+05</td>\n",
       "    </tr>\n",
       "    <tr>\n",
       "      <th>6</th>\n",
       "      <td>8.255206e+05</td>\n",
       "    </tr>\n",
       "    <tr>\n",
       "      <th>7</th>\n",
       "      <td>9.511847e+05</td>\n",
       "    </tr>\n",
       "    <tr>\n",
       "      <th>8</th>\n",
       "      <td>1.105077e+06</td>\n",
       "    </tr>\n",
       "    <tr>\n",
       "      <th>9</th>\n",
       "      <td>8.939998e+05</td>\n",
       "    </tr>\n",
       "    <tr>\n",
       "      <th>10</th>\n",
       "      <td>8.193333e+05</td>\n",
       "    </tr>\n",
       "    <tr>\n",
       "      <th>11</th>\n",
       "      <td>5.200000e+05</td>\n",
       "    </tr>\n",
       "    <tr>\n",
       "      <th>33</th>\n",
       "      <td>6.400000e+05</td>\n",
       "    </tr>\n",
       "  </tbody>\n",
       "</table>\n",
       "</div>"
      ],
      "text/plain": [
       "                 price\n",
       "                  mean\n",
       "bedrooms              \n",
       "0         4.095038e+05\n",
       "1         3.176429e+05\n",
       "2         4.013727e+05\n",
       "3         4.662321e+05\n",
       "4         6.354195e+05\n",
       "5         7.865998e+05\n",
       "6         8.255206e+05\n",
       "7         9.511847e+05\n",
       "8         1.105077e+06\n",
       "9         8.939998e+05\n",
       "10        8.193333e+05\n",
       "11        5.200000e+05\n",
       "33        6.400000e+05"
      ]
     },
     "execution_count": 8,
     "metadata": {},
     "output_type": "execute_result"
    }
   ],
   "source": [
    "houses_price = houses_data.groupby(\"bedrooms\").agg({\"price\": [\"mean\"]}).sort_values(\"bedrooms\")\n",
    "houses_price"
   ]
  },
  {
   "cell_type": "code",
   "execution_count": 9,
   "id": "a1eab353",
   "metadata": {},
   "outputs": [
    {
     "data": {
      "text/plain": [
       "Text(0.5, 1.0, 'Распределение цены и количества спален')"
      ]
     },
     "execution_count": 9,
     "metadata": {},
     "output_type": "execute_result"
    },
    {
     "data": {
      "image/png": "[encoded data removed]",
      "text/plain": [
       "<Figure size 360x360 with 1 Axes>"
      ]
     },
     "metadata": {
      "needs_background": "light"
     },
     "output_type": "display_data"
    }
   ],
   "source": [
    "plt.figure(figsize=(5,5))\n",
    "sns.scatterplot(data = houses_price);\n",
    "plt.xlabel(\"Bedrooms\")\n",
    "plt.ylabel(\"Price\")\n",
    "plt.title(\"Распределение цены и количества спален\")"
   ]
  },
  {
   "cell_type": "markdown",
   "id": "0ac76a49",
   "metadata": {},
   "source": [
    "Вывод: средняя стоимость домов с количеством спален от 5 до 10 самая высокая"
   ]
  },
  {
   "cell_type": "markdown",
   "id": "7a7c0aaf",
   "metadata": {},
   "source": [
    "### 1.3.\n",
    "Изучите распределение квадратуры жилой"
   ]
  },
  {
   "cell_type": "code",
   "execution_count": 10,
   "id": "9722668e",
   "metadata": {},
   "outputs": [
    {
     "data": {
      "image/png": "[encoded data removed]",
      "text/plain": [
       "<Figure size 720x288 with 1 Axes>"
      ]
     },
     "metadata": {
      "needs_background": "light"
     },
     "output_type": "display_data"
    }
   ],
   "source": [
    "plt.figure(figsize=(10, 4))\n",
    "plt.hist(houses_data['sqft_living'], color='b', edgecolor='y',bins = 200)\n",
    "plt.title(\"Распределение жилой площади.\")\n",
    "plt.xlabel('Жилая площадь')\n",
    "plt.ylabel('Количество');"
   ]
  },
  {
   "cell_type": "markdown",
   "id": "9c8906b6",
   "metadata": {},
   "source": [
    "Вывод: больше всего домов с площадью от 10000 до 30000"
   ]
  },
  {
   "cell_type": "markdown",
   "id": "cabfe8e0",
   "metadata": {},
   "source": [
    "### 1.4.\n",
    "Изучите распределение года постройки"
   ]
  },
  {
   "cell_type": "code",
   "execution_count": 11,
   "id": "23585d10",
   "metadata": {},
   "outputs": [
    {
     "data": {
      "text/plain": [
       "0        1955\n",
       "1        1951\n",
       "2        1933\n",
       "3        1965\n",
       "4        1987\n",
       "         ... \n",
       "21608    2009\n",
       "21609    2014\n",
       "21610    2009\n",
       "21611    2004\n",
       "21612    2008\n",
       "Name: yr_built, Length: 21613, dtype: int64"
      ]
     },
     "execution_count": 11,
     "metadata": {},
     "output_type": "execute_result"
    }
   ],
   "source": [
    "houses_data[\"yr_built\"]"
   ]
  },
  {
   "cell_type": "code",
   "execution_count": 12,
   "id": "64ce7dd7",
   "metadata": {},
   "outputs": [
    {
     "data": {
      "image/png": "[encoded data removed]",
      "text/plain": [
       "<Figure size 720x288 with 1 Axes>"
      ]
     },
     "metadata": {
      "needs_background": "light"
     },
     "output_type": "display_data"
    }
   ],
   "source": [
    "plt.figure(figsize=(10, 4))\n",
    "plt.hist(houses_data[\"yr_built\"], color = \"b\", edgecolor = \"r\", bins = 200)\n",
    "plt.title(\"Built\")\n",
    "plt.ylabel(\"Amount\")\n",
    "plt.xlabel(\"Year_built\");"
   ]
  },
  {
   "cell_type": "markdown",
   "id": "fe96bd54",
   "metadata": {},
   "source": [
    "Вывод: на данном графике наблюдаются спады и подъемы, связанные с определенными историческими событиями: великая депрессия, вторая мировая война, мировой финансовый кризис в 2008 и т.д."
   ]
  },
  {
   "cell_type": "markdown",
   "id": "b0ed2b67",
   "metadata": {},
   "source": [
    "## Условие 2: 2 задача\n",
    "### 2.1.\n",
    "Изучите распределение домов от наличия вида на набережную\n",
    "\n",
    "Постройте график\n",
    "\n",
    "Сделайте выводы"
   ]
  },
  {
   "cell_type": "code",
   "execution_count": 13,
   "id": "8ae41f22",
   "metadata": {},
   "outputs": [
    {
     "data": {
      "text/plain": [
       "no waterfront    21450\n",
       "waterfront         163\n",
       "Name: waterfront1, dtype: int64"
      ]
     },
     "execution_count": 13,
     "metadata": {},
     "output_type": "execute_result"
    }
   ],
   "source": [
    "def define_waterfront(x):\n",
    "    if x == 0:\n",
    "        return \"no waterfront\"\n",
    "    else:\n",
    "        return \"waterfront\"\n",
    "\n",
    "houses_data[\"waterfront1\"] = houses_data[\"waterfront\"]\n",
    "wf = houses_data[\"waterfront1\"].apply(define_waterfront)\n",
    "wf = wf.value_counts()\n",
    "wf"
   ]
  },
  {
   "cell_type": "code",
   "execution_count": 14,
   "id": "64546aba",
   "metadata": {},
   "outputs": [
    {
     "data": {
      "image/png": "[encoded data removed]",
      "text/plain": [
       "<Figure size 432x288 with 1 Axes>"
      ]
     },
     "metadata": {},
     "output_type": "display_data"
    }
   ],
   "source": [
    "plt.title(\"Waterfront\")\n",
    "plt.pie(wf.values, autopct = \"%.1f%%\", labels=wf.index);"
   ]
  },
  {
   "cell_type": "markdown",
   "id": "f0e24ea9",
   "metadata": {},
   "source": [
    "Вывод: большинство домов не имеют вида на набережную"
   ]
  },
  {
   "cell_type": "markdown",
   "id": "92696cc0",
   "metadata": {},
   "source": [
    "### 2.2.\n",
    "Изучите распределение этажей домов"
   ]
  },
  {
   "cell_type": "code",
   "execution_count": 15,
   "id": "7c78f5d0",
   "metadata": {},
   "outputs": [
    {
     "data": {
      "text/plain": [
       "1.0    10680\n",
       "2.0     8241\n",
       "1.5     1910\n",
       "3.0      613\n",
       "2.5      161\n",
       "3.5        8\n",
       "Name: floors, dtype: int64"
      ]
     },
     "execution_count": 15,
     "metadata": {},
     "output_type": "execute_result"
    }
   ],
   "source": [
    "floors_amount = houses_data[\"floors\"].value_counts()\n",
    "floors_amount"
   ]
  },
  {
   "cell_type": "code",
   "execution_count": 16,
   "id": "cbf7b0f5",
   "metadata": {},
   "outputs": [
    {
     "data": {
      "image/png": "[encoded data removed]",
      "text/plain": [
       "<Figure size 720x720 with 1 Axes>"
      ]
     },
     "metadata": {},
     "output_type": "display_data"
    }
   ],
   "source": [
    "plt.figure(figsize=(10, 10))\n",
    "plt.title(\"Floors\")\n",
    "plt.pie(floors_amount.values, autopct = \"%.1f%%\", labels=floors_amount.index);"
   ]
  },
  {
   "cell_type": "markdown",
   "id": "a9701cb4",
   "metadata": {},
   "source": [
    "Вывод: большинство домов одноэтажные, так же велика доля двухэтажных домов, меньше всего домов имеющих 3,5 этажей"
   ]
  },
  {
   "cell_type": "markdown",
   "id": "89edc7f1",
   "metadata": {},
   "source": [
    "### 2.3.\n",
    "Изучите распределение состояния домов"
   ]
  },
  {
   "cell_type": "code",
   "execution_count": 17,
   "id": "593e78a2",
   "metadata": {},
   "outputs": [
    {
     "data": {
      "image/png": "[encoded data removed]",
      "text/plain": [
       "<Figure size 432x288 with 1 Axes>"
      ]
     },
     "metadata": {
      "needs_background": "light"
     },
     "output_type": "display_data"
    }
   ],
   "source": [
    "plt.hist(houses_data[\"condition\"], color='y', edgecolor='r')\n",
    "plt.title(\"Condition\")\n",
    "plt.ylabel(\"Amount\")\n",
    "plt.xlabel(\"Condition\");"
   ]
  },
  {
   "cell_type": "markdown",
   "id": "a71bdd7e",
   "metadata": {},
   "source": [
    "Вывод: большинство домов среднего и хорошего состояния"
   ]
  },
  {
   "cell_type": "markdown",
   "id": "85fdbc8c",
   "metadata": {},
   "source": [
    "## Условие 3: 3 задача\n",
    "Исследуйте, какие характеристики недвижимости влияют на стоимость недвижимости, с применением не менее 5 диаграмм из урока.\n",
    "\n",
    "Анализ сделайте в формате storytelling: дополнить каждый график письменными выводами и наблюдениями."
   ]
  },
  {
   "cell_type": "markdown",
   "id": "a4847505",
   "metadata": {},
   "source": [
    "Однажды ко мне обратился приятель с просьбой подобрать ему дом на восточном побережье США. Для принятия решения о покупке конкретного дома ему нужно было понимание о цене дома в зависимости от жилой площади. Я предложил ему взглянуть на график распределения стоимости дома от года постройки."
   ]
  },
  {
   "cell_type": "code",
   "execution_count": 18,
   "id": "58b020ab",
   "metadata": {},
   "outputs": [
    {
     "data": {
      "image/png": "[encoded data removed]",
      "text/plain": [
       "<Figure size 432x432 with 3 Axes>"
      ]
     },
     "metadata": {
      "needs_background": "light"
     },
     "output_type": "display_data"
    }
   ],
   "source": [
    "sns.jointplot(x=houses_data['price'], y=houses_data['yr_built'], kind='reg');"
   ]
  },
  {
   "cell_type": "markdown",
   "id": "d02f6977",
   "metadata": {},
   "source": [
    "Из данного графика мы поняли что с увеличением года постройки наблюдается незначительный тренд на увеличение стоимости дома, поэтому приоритетный выбор пал на дома более новые.\n",
    "Затем он сказал мне, что семья у него большая и в доме должно быть более 3 ванных комнат."
   ]
  },
  {
   "cell_type": "code",
   "execution_count": 19,
   "id": "16e10347",
   "metadata": {},
   "outputs": [
    {
     "data": {
      "text/html": [
       "<div>\n",
       "<style scoped>\n",
       "    .dataframe tbody tr th:only-of-type {\n",
       "        vertical-align: middle;\n",
       "    }\n",
       "\n",
       "    .dataframe tbody tr th {\n",
       "        vertical-align: top;\n",
       "    }\n",
       "\n",
       "    .dataframe thead th {\n",
       "        text-align: right;\n",
       "    }\n",
       "</style>\n",
       "<table border=\"1\" class=\"dataframe\">\n",
       "  <thead>\n",
       "    <tr style=\"text-align: right;\">\n",
       "      <th></th>\n",
       "      <th>id</th>\n",
       "      <th>price</th>\n",
       "      <th>bedrooms</th>\n",
       "      <th>bathrooms</th>\n",
       "      <th>sqft_living</th>\n",
       "      <th>sqft_lot</th>\n",
       "      <th>floors</th>\n",
       "      <th>waterfront</th>\n",
       "      <th>view</th>\n",
       "      <th>condition</th>\n",
       "      <th>...</th>\n",
       "      <th>sqft_above</th>\n",
       "      <th>sqft_basement</th>\n",
       "      <th>yr_built</th>\n",
       "      <th>yr_renovated</th>\n",
       "      <th>zipcode</th>\n",
       "      <th>lat</th>\n",
       "      <th>long</th>\n",
       "      <th>sqft_living15</th>\n",
       "      <th>sqft_lot15</th>\n",
       "      <th>waterfront1</th>\n",
       "    </tr>\n",
       "  </thead>\n",
       "  <tbody>\n",
       "    <tr>\n",
       "      <th>count</th>\n",
       "      <td>1.877000e+03</td>\n",
       "      <td>1.877000e+03</td>\n",
       "      <td>1877.000000</td>\n",
       "      <td>1877.000000</td>\n",
       "      <td>1877.000000</td>\n",
       "      <td>1.877000e+03</td>\n",
       "      <td>1877.000000</td>\n",
       "      <td>1877.000000</td>\n",
       "      <td>1877.000000</td>\n",
       "      <td>1877.000000</td>\n",
       "      <td>...</td>\n",
       "      <td>1877.000000</td>\n",
       "      <td>1877.000000</td>\n",
       "      <td>1877.000000</td>\n",
       "      <td>1877.000000</td>\n",
       "      <td>1877.000000</td>\n",
       "      <td>1877.000000</td>\n",
       "      <td>1877.000000</td>\n",
       "      <td>1877.000000</td>\n",
       "      <td>1877.000000</td>\n",
       "      <td>1877.000000</td>\n",
       "    </tr>\n",
       "    <tr>\n",
       "      <th>mean</th>\n",
       "      <td>4.338340e+09</td>\n",
       "      <td>1.094922e+06</td>\n",
       "      <td>4.228023</td>\n",
       "      <td>3.649707</td>\n",
       "      <td>3646.141716</td>\n",
       "      <td>2.605997e+04</td>\n",
       "      <td>1.954715</td>\n",
       "      <td>0.026105</td>\n",
       "      <td>0.705381</td>\n",
       "      <td>3.228556</td>\n",
       "      <td>...</td>\n",
       "      <td>3035.635056</td>\n",
       "      <td>610.506660</td>\n",
       "      <td>1990.351092</td>\n",
       "      <td>152.466169</td>\n",
       "      <td>98072.050080</td>\n",
       "      <td>47.592063</td>\n",
       "      <td>-122.187823</td>\n",
       "      <td>2793.071391</td>\n",
       "      <td>19133.190730</td>\n",
       "      <td>0.026105</td>\n",
       "    </tr>\n",
       "    <tr>\n",
       "      <th>std</th>\n",
       "      <td>2.898759e+09</td>\n",
       "      <td>7.053362e+05</td>\n",
       "      <td>0.939084</td>\n",
       "      <td>0.532741</td>\n",
       "      <td>1213.074517</td>\n",
       "      <td>7.288943e+04</td>\n",
       "      <td>0.412783</td>\n",
       "      <td>0.159492</td>\n",
       "      <td>1.247188</td>\n",
       "      <td>0.540941</td>\n",
       "      <td>...</td>\n",
       "      <td>1115.900992</td>\n",
       "      <td>641.734436</td>\n",
       "      <td>26.478837</td>\n",
       "      <td>531.070304</td>\n",
       "      <td>50.938544</td>\n",
       "      <td>0.100715</td>\n",
       "      <td>0.144795</td>\n",
       "      <td>947.021297</td>\n",
       "      <td>45836.707191</td>\n",
       "      <td>0.159492</td>\n",
       "    </tr>\n",
       "    <tr>\n",
       "      <th>min</th>\n",
       "      <td>1.150131e+07</td>\n",
       "      <td>1.760000e+05</td>\n",
       "      <td>2.000000</td>\n",
       "      <td>3.250000</td>\n",
       "      <td>1130.000000</td>\n",
       "      <td>7.040000e+02</td>\n",
       "      <td>1.000000</td>\n",
       "      <td>0.000000</td>\n",
       "      <td>0.000000</td>\n",
       "      <td>3.000000</td>\n",
       "      <td>...</td>\n",
       "      <td>900.000000</td>\n",
       "      <td>0.000000</td>\n",
       "      <td>1900.000000</td>\n",
       "      <td>0.000000</td>\n",
       "      <td>98001.000000</td>\n",
       "      <td>47.159300</td>\n",
       "      <td>-122.504000</td>\n",
       "      <td>900.000000</td>\n",
       "      <td>915.000000</td>\n",
       "      <td>0.000000</td>\n",
       "    </tr>\n",
       "    <tr>\n",
       "      <th>25%</th>\n",
       "      <td>1.862400e+09</td>\n",
       "      <td>6.490000e+05</td>\n",
       "      <td>4.000000</td>\n",
       "      <td>3.250000</td>\n",
       "      <td>2940.000000</td>\n",
       "      <td>5.222000e+03</td>\n",
       "      <td>2.000000</td>\n",
       "      <td>0.000000</td>\n",
       "      <td>0.000000</td>\n",
       "      <td>3.000000</td>\n",
       "      <td>...</td>\n",
       "      <td>2230.000000</td>\n",
       "      <td>0.000000</td>\n",
       "      <td>1984.000000</td>\n",
       "      <td>0.000000</td>\n",
       "      <td>98031.000000</td>\n",
       "      <td>47.542600</td>\n",
       "      <td>-122.305000</td>\n",
       "      <td>2020.000000</td>\n",
       "      <td>5260.000000</td>\n",
       "      <td>0.000000</td>\n",
       "    </tr>\n",
       "    <tr>\n",
       "      <th>50%</th>\n",
       "      <td>3.629961e+09</td>\n",
       "      <td>9.010000e+05</td>\n",
       "      <td>4.000000</td>\n",
       "      <td>3.500000</td>\n",
       "      <td>3580.000000</td>\n",
       "      <td>8.625000e+03</td>\n",
       "      <td>2.000000</td>\n",
       "      <td>0.000000</td>\n",
       "      <td>0.000000</td>\n",
       "      <td>3.000000</td>\n",
       "      <td>...</td>\n",
       "      <td>2940.000000</td>\n",
       "      <td>550.000000</td>\n",
       "      <td>2001.000000</td>\n",
       "      <td>0.000000</td>\n",
       "      <td>98059.000000</td>\n",
       "      <td>47.596800</td>\n",
       "      <td>-122.205000</td>\n",
       "      <td>2740.000000</td>\n",
       "      <td>8435.000000</td>\n",
       "      <td>0.000000</td>\n",
       "    </tr>\n",
       "    <tr>\n",
       "      <th>75%</th>\n",
       "      <td>7.207900e+09</td>\n",
       "      <td>1.339000e+06</td>\n",
       "      <td>5.000000</td>\n",
       "      <td>3.750000</td>\n",
       "      <td>4250.000000</td>\n",
       "      <td>1.658200e+04</td>\n",
       "      <td>2.000000</td>\n",
       "      <td>0.000000</td>\n",
       "      <td>1.000000</td>\n",
       "      <td>3.000000</td>\n",
       "      <td>...</td>\n",
       "      <td>3745.000000</td>\n",
       "      <td>1010.000000</td>\n",
       "      <td>2007.000000</td>\n",
       "      <td>0.000000</td>\n",
       "      <td>98112.000000</td>\n",
       "      <td>47.665500</td>\n",
       "      <td>-122.076000</td>\n",
       "      <td>3450.000000</td>\n",
       "      <td>14496.000000</td>\n",
       "      <td>0.000000</td>\n",
       "    </tr>\n",
       "    <tr>\n",
       "      <th>max</th>\n",
       "      <td>9.834201e+09</td>\n",
       "      <td>7.700000e+06</td>\n",
       "      <td>10.000000</td>\n",
       "      <td>8.000000</td>\n",
       "      <td>13540.000000</td>\n",
       "      <td>1.074218e+06</td>\n",
       "      <td>3.500000</td>\n",
       "      <td>1.000000</td>\n",
       "      <td>4.000000</td>\n",
       "      <td>5.000000</td>\n",
       "      <td>...</td>\n",
       "      <td>9410.000000</td>\n",
       "      <td>4820.000000</td>\n",
       "      <td>2015.000000</td>\n",
       "      <td>2015.000000</td>\n",
       "      <td>98199.000000</td>\n",
       "      <td>47.776400</td>\n",
       "      <td>-121.691000</td>\n",
       "      <td>6210.000000</td>\n",
       "      <td>871200.000000</td>\n",
       "      <td>1.000000</td>\n",
       "    </tr>\n",
       "  </tbody>\n",
       "</table>\n",
       "<p>8 rows × 21 columns</p>\n",
       "</div>"
      ],
      "text/plain": [
       "                 id         price     bedrooms    bathrooms   sqft_living  \\\n",
       "count  1.877000e+03  1.877000e+03  1877.000000  1877.000000   1877.000000   \n",
       "mean   4.338340e+09  1.094922e+06     4.228023     3.649707   3646.141716   \n",
       "std    2.898759e+09  7.053362e+05     0.939084     0.532741   1213.074517   \n",
       "min    1.150131e+07  1.760000e+05     2.000000     3.250000   1130.000000   \n",
       "25%    1.862400e+09  6.490000e+05     4.000000     3.250000   2940.000000   \n",
       "50%    3.629961e+09  9.010000e+05     4.000000     3.500000   3580.000000   \n",
       "75%    7.207900e+09  1.339000e+06     5.000000     3.750000   4250.000000   \n",
       "max    9.834201e+09  7.700000e+06    10.000000     8.000000  13540.000000   \n",
       "\n",
       "           sqft_lot       floors   waterfront         view    condition  ...  \\\n",
       "count  1.877000e+03  1877.000000  1877.000000  1877.000000  1877.000000  ...   \n",
       "mean   2.605997e+04     1.954715     0.026105     0.705381     3.228556  ...   \n",
       "std    7.288943e+04     0.412783     0.159492     1.247188     0.540941  ...   \n",
       "min    7.040000e+02     1.000000     0.000000     0.000000     3.000000  ...   \n",
       "25%    5.222000e+03     2.000000     0.000000     0.000000     3.000000  ...   \n",
       "50%    8.625000e+03     2.000000     0.000000     0.000000     3.000000  ...   \n",
       "75%    1.658200e+04     2.000000     0.000000     1.000000     3.000000  ...   \n",
       "max    1.074218e+06     3.500000     1.000000     4.000000     5.000000  ...   \n",
       "\n",
       "        sqft_above  sqft_basement     yr_built  yr_renovated       zipcode  \\\n",
       "count  1877.000000    1877.000000  1877.000000   1877.000000   1877.000000   \n",
       "mean   3035.635056     610.506660  1990.351092    152.466169  98072.050080   \n",
       "std    1115.900992     641.734436    26.478837    531.070304     50.938544   \n",
       "min     900.000000       0.000000  1900.000000      0.000000  98001.000000   \n",
       "25%    2230.000000       0.000000  1984.000000      0.000000  98031.000000   \n",
       "50%    2940.000000     550.000000  2001.000000      0.000000  98059.000000   \n",
       "75%    3745.000000    1010.000000  2007.000000      0.000000  98112.000000   \n",
       "max    9410.000000    4820.000000  2015.000000   2015.000000  98199.000000   \n",
       "\n",
       "               lat         long  sqft_living15     sqft_lot15  waterfront1  \n",
       "count  1877.000000  1877.000000    1877.000000    1877.000000  1877.000000  \n",
       "mean     47.592063  -122.187823    2793.071391   19133.190730     0.026105  \n",
       "std       0.100715     0.144795     947.021297   45836.707191     0.159492  \n",
       "min      47.159300  -122.504000     900.000000     915.000000     0.000000  \n",
       "25%      47.542600  -122.305000    2020.000000    5260.000000     0.000000  \n",
       "50%      47.596800  -122.205000    2740.000000    8435.000000     0.000000  \n",
       "75%      47.665500  -122.076000    3450.000000   14496.000000     0.000000  \n",
       "max      47.776400  -121.691000    6210.000000  871200.000000     1.000000  \n",
       "\n",
       "[8 rows x 21 columns]"
      ]
     },
     "execution_count": 19,
     "metadata": {},
     "output_type": "execute_result"
    }
   ],
   "source": [
    "more_three_bathrooms = houses_data[houses_data[\"bathrooms\"]>3]\n",
    "more_three_bathrooms.describe()"
   ]
  },
  {
   "cell_type": "code",
   "execution_count": 20,
   "id": "e7f1e220",
   "metadata": {},
   "outputs": [
    {
     "data": {
      "image/png": "[encoded data removed]",
      "text/plain": [
       "<Figure size 432x288 with 1 Axes>"
      ]
     },
     "metadata": {
      "needs_background": "light"
     },
     "output_type": "display_data"
    }
   ],
   "source": [
    "counts = more_three_bathrooms[\"bathrooms\"].value_counts()\n",
    "sns.barplot(x=counts.index, y=counts.values);"
   ]
  },
  {
   "cell_type": "markdown",
   "id": "2ae8d33d",
   "metadata": {},
   "source": [
    "Изучив список домов с более чем 3 ванными комнатами, мы поняли, что выбор достаточно велик, а так же в списке много домов с количеством спален более 5. Мы предположили, что это гостинницы или гостевые дома. Такие дома моему другу не подходят."
   ]
  },
  {
   "cell_type": "code",
   "execution_count": 21,
   "id": "7dc1326f",
   "metadata": {},
   "outputs": [
    {
     "data": {
      "text/html": [
       "<div>\n",
       "<style scoped>\n",
       "    .dataframe tbody tr th:only-of-type {\n",
       "        vertical-align: middle;\n",
       "    }\n",
       "\n",
       "    .dataframe tbody tr th {\n",
       "        vertical-align: top;\n",
       "    }\n",
       "\n",
       "    .dataframe thead th {\n",
       "        text-align: right;\n",
       "    }\n",
       "</style>\n",
       "<table border=\"1\" class=\"dataframe\">\n",
       "  <thead>\n",
       "    <tr style=\"text-align: right;\">\n",
       "      <th></th>\n",
       "      <th>id</th>\n",
       "      <th>price</th>\n",
       "      <th>bedrooms</th>\n",
       "      <th>bathrooms</th>\n",
       "      <th>sqft_living</th>\n",
       "      <th>sqft_lot</th>\n",
       "      <th>floors</th>\n",
       "      <th>waterfront</th>\n",
       "      <th>view</th>\n",
       "      <th>condition</th>\n",
       "      <th>...</th>\n",
       "      <th>sqft_above</th>\n",
       "      <th>sqft_basement</th>\n",
       "      <th>yr_built</th>\n",
       "      <th>yr_renovated</th>\n",
       "      <th>zipcode</th>\n",
       "      <th>lat</th>\n",
       "      <th>long</th>\n",
       "      <th>sqft_living15</th>\n",
       "      <th>sqft_lot15</th>\n",
       "      <th>waterfront1</th>\n",
       "    </tr>\n",
       "  </thead>\n",
       "  <tbody>\n",
       "    <tr>\n",
       "      <th>count</th>\n",
       "      <td>1.255000e+03</td>\n",
       "      <td>1.255000e+03</td>\n",
       "      <td>1255.000000</td>\n",
       "      <td>1255.000000</td>\n",
       "      <td>1255.000000</td>\n",
       "      <td>1.255000e+03</td>\n",
       "      <td>1255.000000</td>\n",
       "      <td>1255.000000</td>\n",
       "      <td>1255.000000</td>\n",
       "      <td>1255.000000</td>\n",
       "      <td>...</td>\n",
       "      <td>1255.000000</td>\n",
       "      <td>1255.000000</td>\n",
       "      <td>1255.000000</td>\n",
       "      <td>1255.000000</td>\n",
       "      <td>1255.000000</td>\n",
       "      <td>1255.00000</td>\n",
       "      <td>1255.000000</td>\n",
       "      <td>1255.000000</td>\n",
       "      <td>1255.000000</td>\n",
       "      <td>1255.000000</td>\n",
       "    </tr>\n",
       "    <tr>\n",
       "      <th>mean</th>\n",
       "      <td>4.369279e+09</td>\n",
       "      <td>1.046270e+06</td>\n",
       "      <td>3.694024</td>\n",
       "      <td>3.545418</td>\n",
       "      <td>3421.172908</td>\n",
       "      <td>2.750203e+04</td>\n",
       "      <td>1.972908</td>\n",
       "      <td>0.026295</td>\n",
       "      <td>0.669323</td>\n",
       "      <td>3.207171</td>\n",
       "      <td>...</td>\n",
       "      <td>2901.957769</td>\n",
       "      <td>519.215139</td>\n",
       "      <td>1991.879681</td>\n",
       "      <td>146.706773</td>\n",
       "      <td>98074.972112</td>\n",
       "      <td>47.59251</td>\n",
       "      <td>-122.190474</td>\n",
       "      <td>2744.439841</td>\n",
       "      <td>20360.556972</td>\n",
       "      <td>0.026295</td>\n",
       "    </tr>\n",
       "    <tr>\n",
       "      <th>std</th>\n",
       "      <td>2.911836e+09</td>\n",
       "      <td>5.951216e+05</td>\n",
       "      <td>0.476317</td>\n",
       "      <td>0.376001</td>\n",
       "      <td>1096.118169</td>\n",
       "      <td>7.782419e+04</td>\n",
       "      <td>0.418929</td>\n",
       "      <td>0.160074</td>\n",
       "      <td>1.220430</td>\n",
       "      <td>0.519274</td>\n",
       "      <td>...</td>\n",
       "      <td>1074.845056</td>\n",
       "      <td>573.978352</td>\n",
       "      <td>25.866619</td>\n",
       "      <td>521.825067</td>\n",
       "      <td>50.920663</td>\n",
       "      <td>0.10165</td>\n",
       "      <td>0.150438</td>\n",
       "      <td>946.248034</td>\n",
       "      <td>51649.745168</td>\n",
       "      <td>0.160074</td>\n",
       "    </tr>\n",
       "    <tr>\n",
       "      <th>min</th>\n",
       "      <td>1.150131e+07</td>\n",
       "      <td>1.760000e+05</td>\n",
       "      <td>2.000000</td>\n",
       "      <td>3.250000</td>\n",
       "      <td>1130.000000</td>\n",
       "      <td>7.040000e+02</td>\n",
       "      <td>1.000000</td>\n",
       "      <td>0.000000</td>\n",
       "      <td>0.000000</td>\n",
       "      <td>3.000000</td>\n",
       "      <td>...</td>\n",
       "      <td>930.000000</td>\n",
       "      <td>0.000000</td>\n",
       "      <td>1900.000000</td>\n",
       "      <td>0.000000</td>\n",
       "      <td>98001.000000</td>\n",
       "      <td>47.15930</td>\n",
       "      <td>-122.504000</td>\n",
       "      <td>1000.000000</td>\n",
       "      <td>915.000000</td>\n",
       "      <td>0.000000</td>\n",
       "    </tr>\n",
       "    <tr>\n",
       "      <th>25%</th>\n",
       "      <td>1.923035e+09</td>\n",
       "      <td>6.405000e+05</td>\n",
       "      <td>3.000000</td>\n",
       "      <td>3.250000</td>\n",
       "      <td>2730.000000</td>\n",
       "      <td>4.750500e+03</td>\n",
       "      <td>2.000000</td>\n",
       "      <td>0.000000</td>\n",
       "      <td>0.000000</td>\n",
       "      <td>3.000000</td>\n",
       "      <td>...</td>\n",
       "      <td>2085.000000</td>\n",
       "      <td>0.000000</td>\n",
       "      <td>1989.000000</td>\n",
       "      <td>0.000000</td>\n",
       "      <td>98033.000000</td>\n",
       "      <td>47.54335</td>\n",
       "      <td>-122.320000</td>\n",
       "      <td>1955.000000</td>\n",
       "      <td>4883.500000</td>\n",
       "      <td>0.000000</td>\n",
       "    </tr>\n",
       "    <tr>\n",
       "      <th>50%</th>\n",
       "      <td>3.630121e+09</td>\n",
       "      <td>8.829900e+05</td>\n",
       "      <td>4.000000</td>\n",
       "      <td>3.500000</td>\n",
       "      <td>3450.000000</td>\n",
       "      <td>8.227000e+03</td>\n",
       "      <td>2.000000</td>\n",
       "      <td>0.000000</td>\n",
       "      <td>0.000000</td>\n",
       "      <td>3.000000</td>\n",
       "      <td>...</td>\n",
       "      <td>2830.000000</td>\n",
       "      <td>380.000000</td>\n",
       "      <td>2001.000000</td>\n",
       "      <td>0.000000</td>\n",
       "      <td>98065.000000</td>\n",
       "      <td>47.60080</td>\n",
       "      <td>-122.208000</td>\n",
       "      <td>2660.000000</td>\n",
       "      <td>8048.000000</td>\n",
       "      <td>0.000000</td>\n",
       "    </tr>\n",
       "    <tr>\n",
       "      <th>75%</th>\n",
       "      <td>7.229351e+09</td>\n",
       "      <td>1.303500e+06</td>\n",
       "      <td>4.000000</td>\n",
       "      <td>3.500000</td>\n",
       "      <td>4090.000000</td>\n",
       "      <td>1.696150e+04</td>\n",
       "      <td>2.000000</td>\n",
       "      <td>0.000000</td>\n",
       "      <td>1.000000</td>\n",
       "      <td>3.000000</td>\n",
       "      <td>...</td>\n",
       "      <td>3630.000000</td>\n",
       "      <td>900.000000</td>\n",
       "      <td>2007.000000</td>\n",
       "      <td>0.000000</td>\n",
       "      <td>98112.000000</td>\n",
       "      <td>47.66765</td>\n",
       "      <td>-122.070000</td>\n",
       "      <td>3430.000000</td>\n",
       "      <td>14986.500000</td>\n",
       "      <td>0.000000</td>\n",
       "    </tr>\n",
       "    <tr>\n",
       "      <th>max</th>\n",
       "      <td>9.834201e+09</td>\n",
       "      <td>4.000000e+06</td>\n",
       "      <td>4.000000</td>\n",
       "      <td>5.750000</td>\n",
       "      <td>7850.000000</td>\n",
       "      <td>1.024068e+06</td>\n",
       "      <td>3.000000</td>\n",
       "      <td>1.000000</td>\n",
       "      <td>4.000000</td>\n",
       "      <td>5.000000</td>\n",
       "      <td>...</td>\n",
       "      <td>7850.000000</td>\n",
       "      <td>3500.000000</td>\n",
       "      <td>2015.000000</td>\n",
       "      <td>2015.000000</td>\n",
       "      <td>98199.000000</td>\n",
       "      <td>47.77600</td>\n",
       "      <td>-121.691000</td>\n",
       "      <td>6210.000000</td>\n",
       "      <td>871200.000000</td>\n",
       "      <td>1.000000</td>\n",
       "    </tr>\n",
       "  </tbody>\n",
       "</table>\n",
       "<p>8 rows × 21 columns</p>\n",
       "</div>"
      ],
      "text/plain": [
       "                 id         price     bedrooms    bathrooms  sqft_living  \\\n",
       "count  1.255000e+03  1.255000e+03  1255.000000  1255.000000  1255.000000   \n",
       "mean   4.369279e+09  1.046270e+06     3.694024     3.545418  3421.172908   \n",
       "std    2.911836e+09  5.951216e+05     0.476317     0.376001  1096.118169   \n",
       "min    1.150131e+07  1.760000e+05     2.000000     3.250000  1130.000000   \n",
       "25%    1.923035e+09  6.405000e+05     3.000000     3.250000  2730.000000   \n",
       "50%    3.630121e+09  8.829900e+05     4.000000     3.500000  3450.000000   \n",
       "75%    7.229351e+09  1.303500e+06     4.000000     3.500000  4090.000000   \n",
       "max    9.834201e+09  4.000000e+06     4.000000     5.750000  7850.000000   \n",
       "\n",
       "           sqft_lot       floors   waterfront         view    condition  ...  \\\n",
       "count  1.255000e+03  1255.000000  1255.000000  1255.000000  1255.000000  ...   \n",
       "mean   2.750203e+04     1.972908     0.026295     0.669323     3.207171  ...   \n",
       "std    7.782419e+04     0.418929     0.160074     1.220430     0.519274  ...   \n",
       "min    7.040000e+02     1.000000     0.000000     0.000000     3.000000  ...   \n",
       "25%    4.750500e+03     2.000000     0.000000     0.000000     3.000000  ...   \n",
       "50%    8.227000e+03     2.000000     0.000000     0.000000     3.000000  ...   \n",
       "75%    1.696150e+04     2.000000     0.000000     1.000000     3.000000  ...   \n",
       "max    1.024068e+06     3.000000     1.000000     4.000000     5.000000  ...   \n",
       "\n",
       "        sqft_above  sqft_basement     yr_built  yr_renovated       zipcode  \\\n",
       "count  1255.000000    1255.000000  1255.000000   1255.000000   1255.000000   \n",
       "mean   2901.957769     519.215139  1991.879681    146.706773  98074.972112   \n",
       "std    1074.845056     573.978352    25.866619    521.825067     50.920663   \n",
       "min     930.000000       0.000000  1900.000000      0.000000  98001.000000   \n",
       "25%    2085.000000       0.000000  1989.000000      0.000000  98033.000000   \n",
       "50%    2830.000000     380.000000  2001.000000      0.000000  98065.000000   \n",
       "75%    3630.000000     900.000000  2007.000000      0.000000  98112.000000   \n",
       "max    7850.000000    3500.000000  2015.000000   2015.000000  98199.000000   \n",
       "\n",
       "              lat         long  sqft_living15     sqft_lot15  waterfront1  \n",
       "count  1255.00000  1255.000000    1255.000000    1255.000000  1255.000000  \n",
       "mean     47.59251  -122.190474    2744.439841   20360.556972     0.026295  \n",
       "std       0.10165     0.150438     946.248034   51649.745168     0.160074  \n",
       "min      47.15930  -122.504000    1000.000000     915.000000     0.000000  \n",
       "25%      47.54335  -122.320000    1955.000000    4883.500000     0.000000  \n",
       "50%      47.60080  -122.208000    2660.000000    8048.000000     0.000000  \n",
       "75%      47.66765  -122.070000    3430.000000   14986.500000     0.000000  \n",
       "max      47.77600  -121.691000    6210.000000  871200.000000     1.000000  \n",
       "\n",
       "[8 rows x 21 columns]"
      ]
     },
     "execution_count": 21,
     "metadata": {},
     "output_type": "execute_result"
    }
   ],
   "source": [
    "more_three_bathrooms_and_less_five_bedrooms = houses_data[(houses_data[\"bathrooms\"]>3)&(houses_data[\"bedrooms\"]<5)]\n",
    "more_three_bathrooms_and_less_five_bedrooms.describe()"
   ]
  },
  {
   "cell_type": "markdown",
   "id": "9366de35",
   "metadata": {},
   "source": [
    "Мы решили посмотреть, какое количесво домов с более чем 3 ванными и менее чем 3 спальнями укладывается в наш бюджет - 1000000."
   ]
  },
  {
   "cell_type": "code",
   "execution_count": 22,
   "id": "37bf8a37",
   "metadata": {},
   "outputs": [
    {
     "name": "stderr",
     "output_type": "stream",
     "text": [
      "/tmp/ipykernel_22498/2435189597.py:8: SettingWithCopyWarning: \n",
      "A value is trying to be set on a copy of a slice from a DataFrame.\n",
      "Try using .loc[row_indexer,col_indexer] = value instead\n",
      "\n",
      "See the caveats in the documentation: https://pandas.pydata.org/pandas-docs/stable/user_guide/indexing.html#returning-a-view-versus-a-copy\n",
      "  m['less_1b'] = m[\"price\"].apply(less_1b)\n"
     ]
    }
   ],
   "source": [
    "def less_1b(x):\n",
    "    if x < 1000000:\n",
    "        return \"yes\"\n",
    "    else:\n",
    "        return \"no\"\n",
    "\n",
    "m = more_three_bathrooms_and_less_five_bedrooms\n",
    "m['less_1b'] = m[\"price\"].apply(less_1b)"
   ]
  },
  {
   "cell_type": "markdown",
   "id": "6e194c94",
   "metadata": {},
   "source": [
    "Найдем минимальные, максимальные цены для домов в разном состоянии и количество домов"
   ]
  },
  {
   "cell_type": "code",
   "execution_count": 23,
   "id": "c88837d5",
   "metadata": {},
   "outputs": [
    {
     "data": {
      "text/html": [
       "<div>\n",
       "<style scoped>\n",
       "    .dataframe tbody tr th:only-of-type {\n",
       "        vertical-align: middle;\n",
       "    }\n",
       "\n",
       "    .dataframe tbody tr th {\n",
       "        vertical-align: top;\n",
       "    }\n",
       "\n",
       "    .dataframe thead tr th {\n",
       "        text-align: left;\n",
       "    }\n",
       "</style>\n",
       "<table border=\"1\" class=\"dataframe\">\n",
       "  <thead>\n",
       "    <tr>\n",
       "      <th></th>\n",
       "      <th>condition</th>\n",
       "      <th colspan=\"3\" halign=\"left\">price</th>\n",
       "    </tr>\n",
       "    <tr>\n",
       "      <th></th>\n",
       "      <th></th>\n",
       "      <th>min</th>\n",
       "      <th>max</th>\n",
       "      <th>count</th>\n",
       "    </tr>\n",
       "  </thead>\n",
       "  <tbody>\n",
       "    <tr>\n",
       "      <th>0</th>\n",
       "      <td>3</td>\n",
       "      <td>176000.0</td>\n",
       "      <td>999950.0</td>\n",
       "      <td>670</td>\n",
       "    </tr>\n",
       "    <tr>\n",
       "      <th>1</th>\n",
       "      <td>4</td>\n",
       "      <td>385000.0</td>\n",
       "      <td>996000.0</td>\n",
       "      <td>61</td>\n",
       "    </tr>\n",
       "    <tr>\n",
       "      <th>2</th>\n",
       "      <td>5</td>\n",
       "      <td>500000.0</td>\n",
       "      <td>995000.0</td>\n",
       "      <td>26</td>\n",
       "    </tr>\n",
       "  </tbody>\n",
       "</table>\n",
       "</div>"
      ],
      "text/plain": [
       "  condition     price                \n",
       "                  min       max count\n",
       "0         3  176000.0  999950.0   670\n",
       "1         4  385000.0  996000.0    61\n",
       "2         5  500000.0  995000.0    26"
      ]
     },
     "execution_count": 23,
     "metadata": {},
     "output_type": "execute_result"
    }
   ],
   "source": [
    "yes = m[m[\"less_1b\"]==\"yes\"]\n",
    "yes_grouped = yes.groupby(\"condition\").agg({\"price\": ['min', 'max', 'count']})\n",
    "yes_grouped.reset_index()"
   ]
  }
 ],
 "metadata": {
  "kernelspec": {
   "display_name": "Python 3 (ipykernel)",
   "language": "python",
   "name": "python3"
  },
  "language_info": {
   "codemirror_mode": {
    "name": "ipython",
    "version": 3
   },
   "file_extension": ".py",
   "mimetype": "text/x-python",
   "name": "python",
   "nbconvert_exporter": "python",
   "pygments_lexer": "ipython3",
   "version": "3.11.4"
  }
 },
 "nbformat": 4,
 "nbformat_minor": 5
}
